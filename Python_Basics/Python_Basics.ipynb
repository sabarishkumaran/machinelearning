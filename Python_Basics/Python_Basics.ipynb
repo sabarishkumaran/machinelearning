{
  "nbformat": 4,
  "nbformat_minor": 0,
  "metadata": {
    "colab": {
      "name": "Untitled14.ipynb",
      "provenance": [],
      "collapsed_sections": []
    },
    "kernelspec": {
      "name": "python3",
      "display_name": "Python 3"
    }
  },
  "cells": [
    {
      "cell_type": "markdown",
      "metadata": {
        "id": "mBgNudPIPwvk",
        "colab_type": "text"
      },
      "source": [
        "# **Hello World in Python!**"
      ]
    },
    {
      "cell_type": "code",
      "metadata": {
        "id": "WBzyGTIcPodV",
        "colab_type": "code",
        "colab": {}
      },
      "source": [
        "print(\"Hello World how are you?\")\n",
        "# This a is a comment"
      ],
      "execution_count": 0,
      "outputs": []
    },
    {
      "cell_type": "markdown",
      "metadata": {
        "id": "ElXqPGUsQeW3",
        "colab_type": "text"
      },
      "source": [
        "# **Datatype**"
      ]
    },
    {
      "cell_type": "code",
      "metadata": {
        "id": "KHr3dSAlQaXk",
        "colab_type": "code",
        "colab": {}
      },
      "source": [
        "a = 12\n",
        "print(a)       \n",
        "print(type(a))"
      ],
      "execution_count": 0,
      "outputs": []
    },
    {
      "cell_type": "code",
      "metadata": {
        "id": "3E-c8ymwQyuR",
        "colab_type": "code",
        "colab": {}
      },
      "source": [
        "b = 1.7\n",
        "print(b)       \n",
        "print(type(b))"
      ],
      "execution_count": 0,
      "outputs": []
    },
    {
      "cell_type": "code",
      "metadata": {
        "id": "lLLgBaYNQ3Bp",
        "colab_type": "code",
        "colab": {}
      },
      "source": [
        "c = \"Python\"\n",
        "print(c)       \n",
        "print(type(c))"
      ],
      "execution_count": 0,
      "outputs": []
    },
    {
      "cell_type": "code",
      "metadata": {
        "id": "c1HVwJj3Q6_c",
        "colab_type": "code",
        "colab": {}
      },
      "source": [
        "d = True\n",
        "print(d)\n",
        "print(type(d))"
      ],
      "execution_count": 0,
      "outputs": []
    },
    {
      "cell_type": "code",
      "metadata": {
        "id": "pfASQU9UQ-UN",
        "colab_type": "code",
        "colab": {}
      },
      "source": [
        "a, b, c = 1, 2, 3\n",
        "a, b, c = 1, 3.5, \"hello\"\n",
        "print(type(a))\n",
        "print(type(b)) \n",
        "print(type(c))"
      ],
      "execution_count": 0,
      "outputs": []
    },
    {
      "cell_type": "markdown",
      "metadata": {
        "id": "r_7fd7J2Rr9f",
        "colab_type": "text"
      },
      "source": [
        "# **Math Operation**"
      ]
    },
    {
      "cell_type": "code",
      "metadata": {
        "id": "mpIoTifoRxVT",
        "colab_type": "code",
        "colab": {}
      },
      "source": [
        "a = 10\n",
        "print(a + 1)  \n",
        "print(a - 1)  \n",
        "print(a * 2)  \n",
        "print(a / 2)  \n",
        "print(a ** 2)"
      ],
      "execution_count": 0,
      "outputs": []
    },
    {
      "cell_type": "code",
      "metadata": {
        "id": "scwoueSfR4fv",
        "colab_type": "code",
        "colab": {}
      },
      "source": [
        "x = True\n",
        "y = False\n",
        "print(x and y)  \n",
        "print(x or y)   \n",
        "print(not x)    \n",
        "print(x & y)"
      ],
      "execution_count": 0,
      "outputs": []
    },
    {
      "cell_type": "markdown",
      "metadata": {
        "id": "cgYdMC57SEoV",
        "colab_type": "text"
      },
      "source": [
        "# **Conditions**"
      ]
    },
    {
      "cell_type": "code",
      "metadata": {
        "id": "RVRiE8P6SHcO",
        "colab_type": "code",
        "colab": {}
      },
      "source": [
        "import random\n",
        "a = [50, 100, 200, 300]\n",
        "\n",
        "b = random.choice(a)\n",
        "print (b)"
      ],
      "execution_count": 0,
      "outputs": []
    },
    {
      "cell_type": "code",
      "metadata": {
        "id": "B_j3Bj_dSRIZ",
        "colab_type": "code",
        "colab": {}
      },
      "source": [
        "if (b < 100):\n",
        "\tprint(\"Number - \" + str(b) + \" is less than 100\")\n",
        "\tprint (\"Yes its less than 100\")\n",
        "elif (b >= 100 and b < 200):\n",
        "    print(\"Number - \" + str(b) + \" is greater than or equal to 100 but less than 200\")\n",
        "else:\n",
        "    print(\"Number -\" + str(b) + \" is greater than or equal to 200\")"
      ],
      "execution_count": 0,
      "outputs": []
    },
    {
      "cell_type": "markdown",
      "metadata": {
        "id": "zLConAy4Sag4",
        "colab_type": "text"
      },
      "source": [
        "# **Loops**"
      ]
    },
    {
      "cell_type": "code",
      "metadata": {
        "id": "4CACqcmHSdKf",
        "colab_type": "code",
        "colab": {}
      },
      "source": [
        "c = 0\n",
        "while (c < 10): \n",
        "    print(c,end='')\n",
        "    c += 1"
      ],
      "execution_count": 0,
      "outputs": []
    },
    {
      "cell_type": "code",
      "metadata": {
        "id": "EWz7Ava5ShEP",
        "colab_type": "code",
        "colab": {}
      },
      "source": [
        "numbers = [1, 2, 4]\n",
        "#for (i=0;i<len(numbers);i++)\n",
        "\n",
        "for x in numbers:\n",
        "    print(x)"
      ],
      "execution_count": 0,
      "outputs": []
    },
    {
      "cell_type": "code",
      "metadata": {
        "id": "rSbvVM3KSktI",
        "colab_type": "code",
        "colab": {}
      },
      "source": [
        "x = 5\n",
        "for c in range(x):  # for (i=0,i<5,i++)\n",
        "    print(c)"
      ],
      "execution_count": 0,
      "outputs": []
    },
    {
      "cell_type": "code",
      "metadata": {
        "id": "7mcD7TCxSn9N",
        "colab_type": "code",
        "colab": {}
      },
      "source": [
        "for c in range (0,10,2):  #for (i=1,i<10,i+2)\n",
        "\tprint (c)"
      ],
      "execution_count": 0,
      "outputs": []
    },
    {
      "cell_type": "code",
      "metadata": {
        "id": "8de_MxqvSq5h",
        "colab_type": "code",
        "colab": {}
      },
      "source": [
        "for c in range (10,0,-2):\n",
        "\tprint (c)"
      ],
      "execution_count": 0,
      "outputs": []
    },
    {
      "cell_type": "markdown",
      "metadata": {
        "id": "7x9D9GhpT2-h",
        "colab_type": "text"
      },
      "source": [
        "# **String**"
      ]
    },
    {
      "cell_type": "code",
      "metadata": {
        "id": "rvvtaPr0UGOB",
        "colab_type": "code",
        "colab": {}
      },
      "source": [
        "a = \"Python\"\n",
        "b = \" is python awesome!\"\n",
        "\n",
        "print(len(a))                        \n",
        "print(len(b)) "
      ],
      "execution_count": 0,
      "outputs": []
    },
    {
      "cell_type": "code",
      "metadata": {
        "id": "bE9CvWxCUL7l",
        "colab_type": "code",
        "colab": {}
      },
      "source": [
        "print(a + b)                         \n",
        "print(a, b)                          "
      ],
      "execution_count": 0,
      "outputs": []
    },
    {
      "cell_type": "code",
      "metadata": {
        "id": "SqZgtovnUfm8",
        "colab_type": "code",
        "colab": {}
      },
      "source": [
        "print(\"this is a {} this is b {}\".format(a, b))          \n",
        "print(\"%s%s\" % (a, b))               "
      ],
      "execution_count": 0,
      "outputs": []
    },
    {
      "cell_type": "code",
      "metadata": {
        "id": "1_JAiZveUssF",
        "colab_type": "code",
        "colab": {}
      },
      "source": [
        "print(a.upper())                    \n",
        "print(a.lower())  "
      ],
      "execution_count": 0,
      "outputs": []
    },
    {
      "cell_type": "code",
      "metadata": {
        "id": "wxr3LchHUx16",
        "colab_type": "code",
        "colab": {}
      },
      "source": [
        "print(b.strip())                     \n",
        "print(b.replace(\"awesome\", \"great\"))"
      ],
      "execution_count": 0,
      "outputs": []
    },
    {
      "cell_type": "code",
      "metadata": {
        "id": "G_7otd7zT15a",
        "colab_type": "code",
        "colab": {}
      },
      "source": [
        "if a in b:\n",
        "\tprint (\"True\")\n",
        "else:\n",
        "\tprint (\"false\")"
      ],
      "execution_count": 0,
      "outputs": []
    },
    {
      "cell_type": "markdown",
      "metadata": {
        "id": "BuTeInlbVYw5",
        "colab_type": "text"
      },
      "source": [
        "# **List**"
      ]
    },
    {
      "cell_type": "code",
      "metadata": {
        "id": "_H8A2_BlU-sA",
        "colab_type": "code",
        "colab": {}
      },
      "source": [
        "l = [1,2,3,4,5]\n",
        "\n",
        "print(len(l)) "
      ],
      "execution_count": 0,
      "outputs": []
    },
    {
      "cell_type": "code",
      "metadata": {
        "id": "8QJ_EJHgV1XN",
        "colab_type": "code",
        "colab": {}
      },
      "source": [
        "print(l[0])        \n",
        "print(l[1]) "
      ],
      "execution_count": 0,
      "outputs": []
    },
    {
      "cell_type": "code",
      "metadata": {
        "id": "9Y3fxTNMVff5",
        "colab_type": "code",
        "colab": {}
      },
      "source": [
        "print(l[len(l)-1]) \n",
        "print(l[-1])  "
      ],
      "execution_count": 0,
      "outputs": []
    },
    {
      "cell_type": "code",
      "metadata": {
        "id": "k8p_rW55VqeR",
        "colab_type": "code",
        "colab": {}
      },
      "source": [
        "l.append(6)       \n",
        "print(l)          \n",
        "item = l.pop()    \n",
        "print(item)       \n",
        "l.append(\"string\")\n",
        "print(l) "
      ],
      "execution_count": 0,
      "outputs": []
    },
    {
      "cell_type": "code",
      "metadata": {
        "id": "pexlYo2mV53s",
        "colab_type": "code",
        "colab": {}
      },
      "source": [
        "l = [10,20,30,40,50]\n",
        "\n",
        "print(l[1:2])     \n",
        "print(l[1:3])     \n",
        "print(l[0:])      \n",
        "print(l[0:-1])    \n",
        "print(l[:])  "
      ],
      "execution_count": 0,
      "outputs": []
    },
    {
      "cell_type": "code",
      "metadata": {
        "id": "d2Q8nkCQWDht",
        "colab_type": "code",
        "colab": {}
      },
      "source": [
        "b = [5, 7, 2, 4, 9]\n",
        "b.sort()\n",
        "print(b) "
      ],
      "execution_count": 0,
      "outputs": []
    },
    {
      "cell_type": "code",
      "metadata": {
        "id": "Pbh3ybBBWFWe",
        "colab_type": "code",
        "colab": {}
      },
      "source": [
        "b.sort(reverse=True)\n",
        "print(b)"
      ],
      "execution_count": 0,
      "outputs": []
    },
    {
      "cell_type": "code",
      "metadata": {
        "id": "66fZNCKxWIJe",
        "colab_type": "code",
        "colab": {}
      },
      "source": [
        "a = [\"dhoni\", \"sachin\", \"warner\", \"abd\"]\n",
        "a.reverse()\n",
        "print(a)"
      ],
      "execution_count": 0,
      "outputs": []
    },
    {
      "cell_type": "code",
      "metadata": {
        "id": "10JG8aZVWJ2g",
        "colab_type": "code",
        "colab": {}
      },
      "source": [
        "a = [66, 55, 44, 22, 11, 55, 22] \n",
        "print(a.count(22))"
      ],
      "execution_count": 0,
      "outputs": []
    },
    {
      "cell_type": "markdown",
      "metadata": {
        "id": "dgEqvF90Ya2R",
        "colab_type": "text"
      },
      "source": [
        "# **Tuple**"
      ]
    },
    {
      "cell_type": "code",
      "metadata": {
        "id": "Ik0BKAD0YcxO",
        "colab_type": "code",
        "colab": {}
      },
      "source": [
        "t = (500, 200)\n",
        "\n",
        "print(type(t))\n",
        "print(t[1]) "
      ],
      "execution_count": 0,
      "outputs": []
    },
    {
      "cell_type": "code",
      "metadata": {
        "id": "Skx9XKhPYh9u",
        "colab_type": "code",
        "colab": {}
      },
      "source": [
        "print(len(t)) \n",
        "print(max(t))\n",
        "print(min(t))"
      ],
      "execution_count": 0,
      "outputs": []
    },
    {
      "cell_type": "code",
      "metadata": {
        "id": "lrU0NFW2YoA-",
        "colab_type": "code",
        "colab": {}
      },
      "source": [
        "l = [400, 800, 1200]\n",
        "l_to_t = tuple(l)\n",
        "print(type(l_to_t))\n"
      ],
      "execution_count": 0,
      "outputs": []
    },
    {
      "cell_type": "markdown",
      "metadata": {
        "id": "Fa9dyO_vZBnI",
        "colab_type": "text"
      },
      "source": [
        "# **Dictionary **"
      ]
    },
    {
      "cell_type": "code",
      "metadata": {
        "id": "bZFraEweZA9g",
        "colab_type": "code",
        "colab": {}
      },
      "source": [
        "d = { \"1\" : \"Ironman\", \n",
        "      \"2\" : \"Captain America\", \n",
        "      \"3\" : \"Thor\"\n",
        "    }"
      ],
      "execution_count": 0,
      "outputs": []
    },
    {
      "cell_type": "code",
      "metadata": {
        "id": "3FY5LHRwZJ9N",
        "colab_type": "code",
        "colab": {}
      },
      "source": [
        "print(type(d))    \n",
        "print(d[\"1\"])     "
      ],
      "execution_count": 0,
      "outputs": []
    },
    {
      "cell_type": "code",
      "metadata": {
        "id": "rpk4UHSCZPgf",
        "colab_type": "code",
        "colab": {}
      },
      "source": [
        "for key in d:\n",
        "    print(key)  \n",
        "    print(d[key])"
      ],
      "execution_count": 0,
      "outputs": []
    },
    {
      "cell_type": "code",
      "metadata": {
        "id": "Z3EbGJdGZTnN",
        "colab_type": "code",
        "colab": {}
      },
      "source": [
        "d[\"2\"] = \"Hulk\"\n",
        "for key, value in d.items():\n",
        "    print(key + \" - \" + value)"
      ],
      "execution_count": 0,
      "outputs": []
    },
    {
      "cell_type": "code",
      "metadata": {
        "id": "wgPDloQMZYQ3",
        "colab_type": "code",
        "colab": {}
      },
      "source": [
        "d[\"4\"] = \"Thanos\"\n",
        "\n",
        "print (d.items())\n",
        "d.pop(\"4\")\n",
        "\n",
        "del d[\"2\"]"
      ],
      "execution_count": 0,
      "outputs": []
    },
    {
      "cell_type": "markdown",
      "metadata": {
        "id": "wAz497akagUz",
        "colab_type": "text"
      },
      "source": [
        "# **Exception Handling**"
      ]
    },
    {
      "cell_type": "code",
      "metadata": {
        "id": "LC_jYmA8ap6f",
        "colab_type": "code",
        "colab": {}
      },
      "source": [
        "try:\n",
        "    print(x)\n",
        "except:\n",
        "    print(\"Something is wrong!\")"
      ],
      "execution_count": 0,
      "outputs": []
    },
    {
      "cell_type": "code",
      "metadata": {
        "id": "i0eokz3masIT",
        "colab_type": "code",
        "colab": {}
      },
      "source": [
        "try:\n",
        "    print(x)\n",
        "except: \n",
        "    print(\"Something is wrong!\")\n",
        "finally:\n",
        "    print(\"Finally always execute after try-except.\")"
      ],
      "execution_count": 0,
      "outputs": []
    },
    {
      "cell_type": "markdown",
      "metadata": {
        "id": "pQtyOHQ3a2p5",
        "colab_type": "text"
      },
      "source": [
        "# **Function**"
      ]
    },
    {
      "cell_type": "code",
      "metadata": {
        "id": "PwuAmvyAa5RN",
        "colab_type": "code",
        "colab": {}
      },
      "source": [
        "def squared(x):\n",
        "    print (x*x)\n",
        "    return x*x"
      ],
      "execution_count": 0,
      "outputs": []
    },
    {
      "cell_type": "code",
      "metadata": {
        "id": "Fq7If5fHa6qg",
        "colab_type": "code",
        "colab": {}
      },
      "source": [
        "res = squared(4)"
      ],
      "execution_count": 0,
      "outputs": []
    },
    {
      "cell_type": "markdown",
      "metadata": {
        "id": "jVYpUZ3VbCGp",
        "colab_type": "text"
      },
      "source": [
        "# **Which is Fast**"
      ]
    },
    {
      "cell_type": "code",
      "metadata": {
        "id": "YXwU1MpmbKkK",
        "colab_type": "code",
        "colab": {}
      },
      "source": [
        "import time\n",
        "\n",
        "my_tuple = tuple(range(30000000))\n",
        "tic = time.time()\n",
        "print (tic)\n",
        "my_tuple_squared = map(lambda i: i**2, my_tuple)\n",
        "toc = time.time()\n",
        "print(toc)\n",
        "t = toc-tic\n",
        "print('Elapsed time in seconds for tuple %.8f'%t)"
      ],
      "execution_count": 0,
      "outputs": []
    },
    {
      "cell_type": "code",
      "metadata": {
        "id": "vMS5JCM-bM3z",
        "colab_type": "code",
        "colab": {}
      },
      "source": [
        "my_list = list(range(30000000))\n",
        "tic = time.time()\n",
        "print (tic)\n",
        "my_list_squared = map(lambda i: i**2, my_list)\n",
        "toc = time.time()\n",
        "print(toc)\n",
        "t = toc-tic\n",
        "print('Elapsed time in seconds for list %.8f'%t)"
      ],
      "execution_count": 0,
      "outputs": []
    }
  ]
}