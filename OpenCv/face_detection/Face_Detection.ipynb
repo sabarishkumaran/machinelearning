{
  "nbformat": 4,
  "nbformat_minor": 0,
  "metadata": {
    "colab": {
      "name": "Untitled17.ipynb",
      "provenance": [],
      "collapsed_sections": []
    },
    "kernelspec": {
      "name": "python3",
      "display_name": "Python 3"
    }
  },
  "cells": [
    {
      "cell_type": "markdown",
      "metadata": {
        "id": "PEgICoAx_B8F",
        "colab_type": "text"
      },
      "source": [
        "Face Detection"
      ]
    },
    {
      "cell_type": "code",
      "metadata": {
        "id": "Jx6HeYiD_1t9",
        "colab_type": "code",
        "colab": {}
      },
      "source": [
        "!git clone https://github.com/deepanrajm/machine_learning.git\n"
      ],
      "execution_count": 0,
      "outputs": []
    },
    {
      "cell_type": "code",
      "metadata": {
        "id": "OEWUUfd9Bgme",
        "colab_type": "code",
        "colab": {}
      },
      "source": [
        "!pip uninstall opencv-python"
      ],
      "execution_count": 0,
      "outputs": []
    },
    {
      "cell_type": "code",
      "metadata": {
        "id": "VqTqKYXsBmrm",
        "colab_type": "code",
        "colab": {}
      },
      "source": [
        "!pip install opencv-python==3.4.2.16"
      ],
      "execution_count": 0,
      "outputs": []
    },
    {
      "cell_type": "code",
      "metadata": {
        "id": "fin0hlFw---R",
        "colab_type": "code",
        "colab": {}
      },
      "source": [
        "import cv2\n",
        "from google.colab.patches import cv2_imshow\n",
        "import imutils\n",
        "import numpy as np"
      ],
      "execution_count": 0,
      "outputs": []
    },
    {
      "cell_type": "code",
      "metadata": {
        "id": "0pwlsXLB_Bjc",
        "colab_type": "code",
        "colab": {}
      },
      "source": [
        "image = cv2.imread(\"machine_learning/OpenCv/face_detection/images/messi.png\")\n",
        "image = np.asarray(image, dtype=np.uint8)\n",
        "gray = cv2.cvtColor(image, cv2.COLOR_BGR2GRAY)"
      ],
      "execution_count": 0,
      "outputs": []
    },
    {
      "cell_type": "code",
      "metadata": {
        "id": "vi0gD2wW_fA2",
        "colab_type": "code",
        "colab": {}
      },
      "source": [
        "detector = cv2.CascadeClassifier(\"machine_learning/OpenCv/face_detection/cascades/haarcascade_frontalface_default.xml\")"
      ],
      "execution_count": 0,
      "outputs": []
    },
    {
      "cell_type": "code",
      "metadata": {
        "id": "kcpmRIIe_qRt",
        "colab_type": "code",
        "colab": {}
      },
      "source": [
        "if imutils.is_cv2():\n",
        "\tfaceRects = detector.detectMultiScale(gray, scaleFactor=1.05, minNeighbors=5,\n",
        "\t\tminSize=(30, 30), flags=cv2.cv.CV_HAAR_SCALE_IMAGE)\n",
        "\n",
        "# otherwise handle face detection for OpenCV 3+\n",
        "else:\n",
        "\tfaceRects = detector.detectMultiScale(gray, scaleFactor=1.05, minNeighbors=5,\n",
        "\t\tminSize=(30, 30), flags=cv2.CASCADE_SCALE_IMAGE)"
      ],
      "execution_count": 0,
      "outputs": []
    },
    {
      "cell_type": "code",
      "metadata": {
        "id": "DbC1LPvc_s1e",
        "colab_type": "code",
        "colab": {}
      },
      "source": [
        "for (x, y, w, h) in faceRects:\n",
        "\tcv2.rectangle(image, (x, y), (x + w, y + h), (0, 255, 0), 2)"
      ],
      "execution_count": 0,
      "outputs": []
    },
    {
      "cell_type": "code",
      "metadata": {
        "id": "jRHYnJ8E_uIc",
        "colab_type": "code",
        "colab": {}
      },
      "source": [
        "cv2_imshow(image)"
      ],
      "execution_count": 0,
      "outputs": []
    }
  ]
}