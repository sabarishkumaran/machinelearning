{
  "nbformat": 4,
  "nbformat_minor": 0,
  "metadata": {
    "colab": {
      "name": "Untitled26.ipynb",
      "provenance": [],
      "collapsed_sections": []
    },
    "kernelspec": {
      "name": "python3",
      "display_name": "Python 3"
    }
  },
  "cells": [
    {
      "cell_type": "markdown",
      "metadata": {
        "id": "58YjF4VCcGXM",
        "colab_type": "text"
      },
      "source": [
        "# **Plotting**"
      ]
    },
    {
      "cell_type": "code",
      "metadata": {
        "id": "4XTSPD8Ka3yR",
        "colab_type": "code",
        "colab": {}
      },
      "source": [
        "!git clone https://github.com/deepanrajm/machine_learning.git"
      ],
      "execution_count": 0,
      "outputs": []
    },
    {
      "cell_type": "markdown",
      "metadata": {
        "id": "KyrXtOaocMWf",
        "colab_type": "text"
      },
      "source": [
        "# General plot.**py**"
      ]
    },
    {
      "cell_type": "code",
      "metadata": {
        "id": "JsFATb435SwS",
        "colab_type": "code",
        "colab": {}
      },
      "source": [
        "import matplotlib.pyplot as plt\n",
        "import numpy as np\n",
        "import seaborn as sns"
      ],
      "execution_count": 0,
      "outputs": []
    },
    {
      "cell_type": "code",
      "metadata": {
        "id": "khvgt4Gh5WMQ",
        "colab_type": "code",
        "colab": {}
      },
      "source": [
        "x = np.random.random((10, 1))\n",
        "\n",
        "print(x)"
      ],
      "execution_count": 0,
      "outputs": []
    },
    {
      "cell_type": "code",
      "metadata": {
        "id": "mofPFLUU5YoJ",
        "colab_type": "code",
        "colab": {}
      },
      "source": [
        "plt.plot(x, '*-')\n",
        "plt.show()"
      ],
      "execution_count": 0,
      "outputs": []
    },
    {
      "cell_type": "code",
      "metadata": {
        "id": "PNbDs8nY5eY2",
        "colab_type": "code",
        "colab": {}
      },
      "source": [
        "x = np.linspace(0, 100, 50)\n",
        "y = np.power(x, .5)\n",
        "plt.plot(x, y, '+-')\n",
        "plt.show()"
      ],
      "execution_count": 0,
      "outputs": []
    },
    {
      "cell_type": "code",
      "metadata": {
        "id": "37rikei85hCl",
        "colab_type": "code",
        "colab": {}
      },
      "source": [
        "sns.set()\n",
        "sns.lineplot(x, y)\n",
        "plt.show()"
      ],
      "execution_count": 0,
      "outputs": []
    },
    {
      "cell_type": "markdown",
      "metadata": {
        "id": "LOsbB7JHcgBD",
        "colab_type": "text"
      },
      "source": [
        "# **Plotting Data from Dataset**"
      ]
    },
    {
      "cell_type": "code",
      "metadata": {
        "id": "TAKX_zkZ5uoD",
        "colab_type": "code",
        "colab": {}
      },
      "source": [
        "import matplotlib.pyplot as plt\n",
        "import numpy as np\n",
        "import seaborn as sns\n",
        "import pandas as pd"
      ],
      "execution_count": 0,
      "outputs": []
    },
    {
      "cell_type": "code",
      "metadata": {
        "id": "Bjz0EPCD5xGz",
        "colab_type": "code",
        "colab": {}
      },
      "source": [
        "data = pd.read_csv('machine_learning/Plotting/mobile_cleaned.csv')\n",
        "data.head()"
      ],
      "execution_count": 0,
      "outputs": []
    },
    {
      "cell_type": "code",
      "metadata": {
        "id": "-ZPqF4i85-CR",
        "colab_type": "code",
        "colab": {}
      },
      "source": [
        "ax = sns.scatterplot(x=\"stand_by_time\", y=\"battery_capacity\", data=data)\n",
        "plt.show()"
      ],
      "execution_count": 0,
      "outputs": []
    },
    {
      "cell_type": "code",
      "metadata": {
        "id": "qjMZ4my86AXk",
        "colab_type": "code",
        "colab": {}
      },
      "source": [
        "ax = sns.scatterplot(x = \"stand_by_time\", y = \"battery_capacity\", hue=\"thickness\", data=data)\n",
        "plt.show()"
      ],
      "execution_count": 0,
      "outputs": []
    },
    {
      "cell_type": "code",
      "metadata": {
        "id": "_dhfWITu6CsF",
        "colab_type": "code",
        "colab": {}
      },
      "source": [
        "ax = sns.distplot(data[\"stand_by_time\"])\n",
        "plt.show()"
      ],
      "execution_count": 0,
      "outputs": []
    },
    {
      "cell_type": "code",
      "metadata": {
        "id": "gn07WOHw6D4r",
        "colab_type": "code",
        "colab": {}
      },
      "source": [
        "ax = sns.boxplot(x=\"is_liked\", y=\"battery_capacity\", data=data)\n",
        "plt.show()"
      ],
      "execution_count": 0,
      "outputs": []
    },
    {
      "cell_type": "code",
      "metadata": {
        "id": "wN4hUmPocpP6",
        "colab_type": "code",
        "colab": {}
      },
      "source": [
        "ax = sns.boxplot(x = \"expandable_memory\", y = \"price\", data=data)\n",
        "plt.show()"
      ],
      "execution_count": 0,
      "outputs": []
    },
    {
      "cell_type": "markdown",
      "metadata": {
        "id": "5TZ8P4G3cwBv",
        "colab_type": "text"
      },
      "source": [
        "**4 Axis to the maximum**"
      ]
    },
    {
      "cell_type": "code",
      "metadata": {
        "id": "KBohZqYVc3v-",
        "colab_type": "code",
        "colab": {}
      },
      "source": [
        "dataframe = pd.read_csv(\"machine_learning/Plotting/iris.csv\")\n",
        "print(dataframe.head())\n",
        "\n",
        "\n",
        "ax = sns.scatterplot(x=\"petal.length\", y=\"petal.width\",hue=\"variety\",size = \"sepal.width\",data=dataframe)\n",
        "plt.show()"
      ],
      "execution_count": 0,
      "outputs": []
    }
  ]
}